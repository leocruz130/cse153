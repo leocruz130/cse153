{
 "cells": [
  {
   "cell_type": "code",
   "execution_count": 23,
   "id": "_5oTP_OEHMOd",
   "metadata": {
    "id": "_5oTP_OEHMOd"
   },
   "outputs": [],
   "source": [
    "# from google.colab import drive\n",
    "# drive.mount('/content/drive')"
   ]
  },
  {
   "cell_type": "code",
   "execution_count": 24,
   "id": "153f5981",
   "metadata": {
    "id": "153f5981"
   },
   "outputs": [],
   "source": [
    "import os\n",
    "from glob import glob\n",
    "import numpy as np\n",
    "import random"
   ]
  },
  {
   "cell_type": "code",
   "execution_count": 25,
   "id": "2b317c36",
   "metadata": {
    "id": "2b317c36"
   },
   "outputs": [],
   "source": [
    "import homework3"
   ]
  },
  {
   "cell_type": "code",
   "execution_count": 26,
   "id": "76af10b5",
   "metadata": {
    "id": "76af10b5"
   },
   "outputs": [],
   "source": [
    "random.seed(0)"
   ]
  },
  {
   "cell_type": "code",
   "execution_count": 27,
   "id": "af102dee",
   "metadata": {
    "id": "af102dee"
   },
   "outputs": [],
   "source": [
    "midi_files = glob('PDMX_subset/*.mid')\n",
    "# Note: the autograder will only use a subset of the files.\n",
    "# You might also work with a small subset to make experimentation faster"
   ]
  },
  {
   "cell_type": "code",
   "execution_count": 28,
   "id": "77b45732",
   "metadata": {
    "id": "77b45732"
   },
   "outputs": [],
   "source": [
    "def testQ1a():\n",
    "    yours = homework3.note_extraction(midi_files[0])\n",
    "    print(yours)"
   ]
  },
  {
   "cell_type": "code",
   "execution_count": 29,
   "id": "3974f754",
   "metadata": {
    "id": "3974f754"
   },
   "outputs": [],
   "source": [
    "def testQ1b():\n",
    "    yours = homework3.note_frequency(midi_files)\n",
    "    print(yours)"
   ]
  },
  {
   "cell_type": "code",
   "execution_count": 30,
   "id": "68af9e67",
   "metadata": {
    "id": "68af9e67"
   },
   "outputs": [],
   "source": [
    "def testQ2():\n",
    "    yours = homework3.note_unigram_probability(midi_files)\n",
    "    print(yours)"
   ]
  },
  {
   "cell_type": "code",
   "execution_count": 31,
   "id": "b2b101b8",
   "metadata": {
    "id": "b2b101b8"
   },
   "outputs": [],
   "source": [
    "def testQ3a():\n",
    "    your_transition, your_probability = homework3.note_bigram_probability(midi_files)\n",
    "    print(your_transition[74]) # Example\n",
    "    print(your_probability[74])"
   ]
  },
  {
   "cell_type": "code",
   "execution_count": 32,
   "id": "6d2180b5",
   "metadata": {
    "id": "6d2180b5"
   },
   "outputs": [],
   "source": [
    "def testQ3b():\n",
    "    test_notes = [92, 35, 54] # some notes that have only one possible next note\n",
    "    yours = []\n",
    "    correct = []\n",
    "    for note in test_notes:\n",
    "        yours.append(homework3.sample_next_note(note))\n",
    "\n",
    "    print(yours)"
   ]
  },
  {
   "cell_type": "code",
   "execution_count": 33,
   "id": "93f201e8",
   "metadata": {
    "id": "93f201e8"
   },
   "outputs": [],
   "source": [
    "def testQ4():\n",
    "    test_file = midi_files[0]\n",
    "    yours = [homework3.note_bigram_perplexity(test_file)]\n",
    "    print(yours)"
   ]
  },
  {
   "cell_type": "code",
   "execution_count": 34,
   "id": "c07dc0e3",
   "metadata": {
    "id": "c07dc0e3"
   },
   "outputs": [],
   "source": [
    "def testQ5a():\n",
    "    test_notes = [71,72,73]\n",
    "    your_transition, your_probability = homework3.note_trigram_probability(midi_files)\n",
    "    print(your_transition)\n",
    "    print(your_probability)"
   ]
  },
  {
   "cell_type": "code",
   "execution_count": 35,
   "id": "1b3ac031",
   "metadata": {
    "id": "1b3ac031"
   },
   "outputs": [],
   "source": [
    "def testQ5b():\n",
    "    test_file = midi_files[0]\n",
    "    yours = [homework3.note_trigram_perplexity(test_file)]\n",
    "    print(yours)"
   ]
  },
  {
   "cell_type": "code",
   "execution_count": 36,
   "id": "19f20bc4",
   "metadata": {
    "id": "19f20bc4"
   },
   "outputs": [],
   "source": [
    "def testQ6():\n",
    "    test_files = midi_files[:5]\n",
    "    yours = []\n",
    "    for file in test_files:\n",
    "        beats = homework3.beat_extraction(file)\n",
    "        yours += [beat[0] for beat in beats]\n",
    "        yours += [beat[1] for beat in beats]\n",
    "\n",
    "    print(yours)"
   ]
  },
  {
   "cell_type": "code",
   "execution_count": 37,
   "id": "5f61fd5f",
   "metadata": {
    "id": "5f61fd5f"
   },
   "outputs": [],
   "source": [
    "def testQ7():\n",
    "    test_beats = [2,4,8]\n",
    "    your_transition, your_probability = homework3.beat_bigram_probability(midi_files)\n",
    "    yours = []\n",
    "    correct = []\n",
    "    for note in test_beats:\n",
    "        index = your_transition[4].index(note)\n",
    "        yours.append(your_probability[4][index])\n",
    "\n",
    "    print(yours)"
   ]
  },
  {
   "cell_type": "code",
   "execution_count": 38,
   "id": "c6191005",
   "metadata": {
    "id": "c6191005"
   },
   "outputs": [],
   "source": [
    "def testQ8a():\n",
    "    test_beats = [2,4,8]\n",
    "    your_transition, your_probability = homework3.beat_pos_bigram_probability(midi_files)\n",
    "    yours = []\n",
    "    for note in test_beats:\n",
    "        index = your_transition[0].index(note)\n",
    "        yours.append(your_probability[0][index])\n",
    "\n",
    "    print(yours)"
   ]
  },
  {
   "cell_type": "code",
   "execution_count": 39,
   "id": "541e61d3",
   "metadata": {
    "id": "541e61d3"
   },
   "outputs": [],
   "source": [
    "def testQ8b():\n",
    "    test_file = midi_files[0]\n",
    "    yours = list(homework3.beat_bigram_perplexity(test_file))\n",
    "    print(yours)"
   ]
  },
  {
   "cell_type": "code",
   "execution_count": 40,
   "id": "19641f59",
   "metadata": {
    "id": "19641f59"
   },
   "outputs": [],
   "source": [
    "def testQ9a():\n",
    "    test_beats = [2,4,8]\n",
    "    your_transition, your_probability = homework3.beat_trigram_probability(midi_files)\n",
    "    yours = []\n",
    "    for note in test_beats:\n",
    "        index = your_transition[(4, 0)].index(note)\n",
    "        yours.append(your_probability[(4, 0)][index])\n",
    "\n",
    "    print(yours)"
   ]
  },
  {
   "cell_type": "code",
   "execution_count": 41,
   "id": "3dc6bae4",
   "metadata": {
    "id": "3dc6bae4"
   },
   "outputs": [],
   "source": [
    "def testQ9b():\n",
    "    test_file = midi_files[0]\n",
    "    yours = [homework3.beat_trigram_perplexity(test_file)]\n",
    "\n",
    "    print(yours)"
   ]
  },
  {
   "cell_type": "code",
   "execution_count": 42,
   "id": "d338b9e8",
   "metadata": {
    "id": "d338b9e8"
   },
   "outputs": [],
   "source": [
    "def testQ10():\n",
    "    n = 10\n",
    "    homework3.music_generate(n)\n",
    "    if not os.path.exists('q10.mid'):\n",
    "        print('No q10.mid file found')\n",
    "        return 0\n",
    "\n",
    "    # requirement1: generation of n notes\n",
    "    notes = homework3.note_extraction('q10.mid')\n",
    "    if len(notes) == n:\n",
    "        point += 0.25\n",
    "    else:\n",
    "        print('It looks like your solution has the wrong sequence length')\n",
    "\n",
    "    # Various other tests about the statistics of your midi file..."
   ]
  },
  {
   "cell_type": "code",
   "execution_count": null,
   "id": "b13eb1a6",
   "metadata": {
    "id": "b13eb1a6"
   },
   "outputs": [
    {
     "name": "stdout",
     "output_type": "stream",
     "text": [
      "[66, 62, 66, 69, 74, 78, 81, 78, 79, 78, 76, 73, 74, 73, 71, 69, 67, 71, 67, 66, 69, 66, 64, 62, 64, 66, 67, 66, 64, 62, 66, 62, 66, 69, 74, 78, 81, 78, 79, 78, 76, 73, 74, 73, 71, 69, 74, 78, 81, 78, 83, 79, 76, 73, 74, 74, 74, 69, 74, 78, 74, 73, 76, 73, 71, 69, 71, 73, 74, 73, 71, 69, 67, 71, 67, 66, 69, 66, 64, 62, 64, 66, 67, 66, 64, 62, 66, 62, 66, 69, 74, 78, 81, 78, 79, 78, 76, 73, 74, 73, 71, 69, 74, 78, 81, 78, 83, 79, 76, 73, 74, 74, 74, 69, 74, 78, 74, 73, 76, 73, 71, 69, 71, 73, 74, 73, 71, 69, 67, 71, 67, 66, 69, 66, 64, 62, 64, 66, 67, 66, 64, 62, 66, 62, 66, 69, 74, 78, 81, 78, 79, 78, 76, 73, 74, 73, 71, 69, 74, 78, 81, 78, 83, 79, 76, 73, 74, 74, 74, 69, 74, 78, 74, 78, 73, 76, 73, 76, 71, 73, 74, 76, 74, 73, 71, 69, 67, 71, 67, 71, 66, 69, 66, 69, 64, 66, 67, 69, 67, 66, 64, 62, 66, 62, 66, 69, 74, 78, 81, 78, 79, 76, 78, 74, 74, 73, 71, 69, 81, 78, 74, 78, 79, 76, 73, 76, 74, 74, 74, 69, 74, 78, 74, 78, 73, 76, 73, 76, 71, 73, 74, 76, 74, 73, 71, 69, 67, 71, 67, 71, 66, 69, 66, 69, 64, 66, 67, 69, 67, 66, 64, 62, 66, 62, 66, 69, 74, 78, 81, 78, 79, 76, 78, 74, 74, 73, 71, 69, 81, 78, 74, 78, 79, 76, 73, 76, 74, 74, 74]\n",
      "0.03872820539060801\n",
      "289\n"
     ]
    }
   ],
   "source": [
    "testQ1a()\n",
    "testQ1b()\n",
    "testQ2()\n",
    "testQ3a()\n",
    "testQ3b()\n",
    "testQ4()\n",
    "testQ5a()\n",
    "testQ5b()\n",
    "testQ6()\n",
    "testQ7()\n",
    "testQ8a()\n",
    "testQ8b()\n",
    "testQ9a()\n",
    "testQ9b()\n",
    "testQ10()\n"
   ]
  }
 ],
 "metadata": {
  "colab": {
   "provenance": []
  },
  "kernelspec": {
   "display_name": ".venv",
   "language": "python",
   "name": "python3"
  },
  "language_info": {
   "codemirror_mode": {
    "name": "ipython",
    "version": 3
   },
   "file_extension": ".py",
   "mimetype": "text/x-python",
   "name": "python",
   "nbconvert_exporter": "python",
   "pygments_lexer": "ipython3",
   "version": "3.13.0"
  }
 },
 "nbformat": 4,
 "nbformat_minor": 5
}
