{
 "cells": [
  {
   "cell_type": "markdown",
   "metadata": {},
   "source": [
    "# Homework 2: training pipeline\n",
    "\n",
    "This code will test your homework 2 solutions by using them in a complete ML pipeline. You should run this code in order to tune your model and save your model weights (which will also be uploaded as part of your solution)"
   ]
  },
  {
   "cell_type": "code",
   "execution_count": null,
   "metadata": {},
   "outputs": [],
   "source": [
    "# Download the training data from the homework2 folder:\n",
    "# unzip using tar xzvvf nsynth_subset.tar.gz\n",
    "# (this is a small subset of the \"nsynth\" dataset: https://magenta.tensorflow.org/datasets/nsynth)"
   ]
  },
  {
   "cell_type": "code",
   "execution_count": null,
   "metadata": {},
   "outputs": [],
   "source": [
    "import homework2"
   ]
  },
  {
   "cell_type": "markdown",
   "metadata": {},
   "source": [
    "### Install and Load Required Libraries  "
   ]
  },
  {
   "cell_type": "code",
   "execution_count": null,
   "metadata": {},
   "outputs": [],
   "source": [
    "# !pip install librosa\n",
    "# !pip install torch\n",
    "# !pip install glob\n",
    "# !pip install numpy"
   ]
  },
  {
   "cell_type": "code",
   "execution_count": null,
   "metadata": {},
   "outputs": [],
   "source": [
    "import torch\n",
    "import torch.nn as nn\n",
    "import torch.nn.functional as nnF\n",
    "import torch.optim as optim\n",
    "from torch.utils.data import Dataset, DataLoader\n",
    "import numpy as np\n",
    "import librosa\n",
    "import random\n",
    "import glob"
   ]
  },
  {
   "cell_type": "code",
   "execution_count": null,
   "metadata": {},
   "outputs": [],
   "source": [
    "BATCH_SIZE = 16\n",
    "torch.use_deterministic_algorithms(True)"
   ]
  },
  {
   "cell_type": "code",
   "execution_count": null,
   "metadata": {},
   "outputs": [],
   "source": [
    "if not len(homework2.audio_paths):\n",
    "    print(\"You probably need to set the dataroot folder correctly\")"
   ]
  },
  {
   "cell_type": "code",
   "execution_count": null,
   "metadata": {},
   "outputs": [],
   "source": [
    "# Some helper functions. These are the same as what the autograder runs."
   ]
  },
  {
   "cell_type": "code",
   "execution_count": null,
   "metadata": {},
   "outputs": [],
   "source": [
    "# Split dataset into train / valid / test\n",
    "def split_data(waveforms, labels, train_ratio=0.7, valid_ratio=0.15):\n",
    "    assert(train_ratio + valid_ratio < 1)\n",
    "    test_ratio = 1 - (train_ratio + valid_ratio)\n",
    "    N = len(waveforms)\n",
    "    Ntrain = int(N * train_ratio)\n",
    "    Nvalid = int(N * valid_ratio)\n",
    "    Ntest = int(N * test_ratio)\n",
    "    Wtrain = waveforms[:Ntrain]\n",
    "    Wvalid = waveforms[Ntrain:Ntrain + Nvalid]\n",
    "    Wtest = waveforms[Ntrain + Nvalid:]\n",
    "    ytrain = labels[:Ntrain]\n",
    "    yvalid = labels[Ntrain:Ntrain + Nvalid]\n",
    "    ytest = labels[Ntrain + Nvalid:]\n",
    "    return Wtrain,Wvalid,Wtest,ytrain,yvalid,ytest"
   ]
  },
  {
   "cell_type": "code",
   "execution_count": null,
   "metadata": {},
   "outputs": [],
   "source": [
    "def process_data(W, feature_function):\n",
    "    return [feature_function(path) for path in W]"
   ]
  },
  {
   "cell_type": "code",
   "execution_count": null,
   "metadata": {},
   "outputs": [],
   "source": [
    "class InstrumentDataset(Dataset):\n",
    "    def __init__(self, features, labels):\n",
    "        self.features = features\n",
    "        self.labels = labels\n",
    "        \n",
    "    def __len__(self):\n",
    "        return len(self.labels)\n",
    "\n",
    "    def __getitem__(self, idx):\n",
    "        features = self.features[idx]\n",
    "        label = self.labels[idx]\n",
    "\n",
    "        return features, torch.tensor(label, dtype=torch.long)"
   ]
  },
  {
   "cell_type": "code",
   "execution_count": null,
   "metadata": {},
   "outputs": [],
   "source": [
    "class Loaders():\n",
    "    def __init__(self, waveforms, labels, feature_function, seed = 0):\n",
    "        torch.manual_seed(seed)\n",
    "        random.seed(seed)\n",
    "        self.Wtrain, self.Wvalid, self.Wtest, self.ytrain, self.yvalid, self.ytest = split_data(waveforms, labels)\n",
    "        \n",
    "        self.Xtrain = process_data(self.Wtrain, feature_function)\n",
    "        self.Xvalid = process_data(self.Wvalid, feature_function)\n",
    "        self.Xtest = process_data(self.Wtest, feature_function)\n",
    "        \n",
    "        self.dataTrain = InstrumentDataset(self.Xtrain, self.ytrain)\n",
    "        self.dataValid = InstrumentDataset(self.Xvalid, self.yvalid)\n",
    "        self.dataTest = InstrumentDataset(self.Xtest, self.ytest)\n",
    "        \n",
    "        self.loaderTrain = DataLoader(self.dataTrain, batch_size=BATCH_SIZE, shuffle=False, num_workers=0)\n",
    "        self.loaderValid = DataLoader(self.dataValid, batch_size=BATCH_SIZE, shuffle=False, num_workers=0)\n",
    "        self.loaderTest = DataLoader(self.dataTest, batch_size=BATCH_SIZE, shuffle=False, num_workers=0)"
   ]
  },
  {
   "cell_type": "code",
   "execution_count": null,
   "metadata": {},
   "outputs": [],
   "source": [
    "class Pipeline():\n",
    "    def __init__(self, module, learning_rate, seed = 0):\n",
    "        # These two lines will (mostly) make things deterministic.\n",
    "        # You're welcome to modify them to try to get a better solution.\n",
    "        torch.manual_seed(seed)\n",
    "        random.seed(seed)\n",
    "\n",
    "        self.device = torch.device(\"cpu\") # Can change this if you have a GPU, but the autograder will use CPU\n",
    "        self.criterion = nn.CrossEntropyLoss()\n",
    "        \n",
    "        self.model = module.to(self.device)\n",
    "        self.optimizer = optim.Adam(self.model.parameters(), lr=learning_rate)\n",
    "\n",
    "    def evaluate(self, loader, which = \"valid\"):\n",
    "        self.model.eval()\n",
    "\n",
    "        correct = 0\n",
    "        total = 0\n",
    "\n",
    "        with torch.no_grad():\n",
    "            for inputs, labels in loader:\n",
    "                inputs, labels = inputs.to(self.device), labels.to(self.device)\n",
    "\n",
    "                outputs = self.model(inputs)\n",
    "                #loss = criterion(outputs, labels) # validation loss\n",
    "\n",
    "                _, predicted = torch.max(outputs.data, 1)\n",
    "                total += labels.size(0)\n",
    "                correct += (predicted == labels).sum().item()\n",
    "\n",
    "        acc = correct / total\n",
    "        \n",
    "        return acc\n",
    "    \n",
    "    def train(self, loaders,\n",
    "          num_epochs=1, # Train for a single epoch by default\n",
    "          model_path=None): # (Optionally) provide a path to save the best model\n",
    "        val_acc = 0\n",
    "        best_val_acc = 0\n",
    "        for epoch in range(num_epochs):\n",
    "            self.model.train()\n",
    "            \n",
    "            losses = []\n",
    "\n",
    "            for inputs, labels in loaders.loaderTrain:\n",
    "                inputs, labels = inputs.to(self.device), labels.to(self.device)\n",
    "\n",
    "                self.optimizer.zero_grad()\n",
    "                outputs = self.model(inputs)\n",
    "                loss = self.criterion(outputs, labels)\n",
    "                loss.backward()\n",
    "                self.optimizer.step()\n",
    "                losses.append(float(loss))\n",
    "            \n",
    "            self.model.eval()\n",
    "            val_acc = self.evaluate(loaders.loaderValid)\n",
    "            print(\"Epoch \" + str(epoch) + \", loss = \" + str(sum(losses)/len(losses)) +\\\n",
    "                  \", validation accuracy = \" + str(val_acc))\n",
    "\n",
    "            if val_acc > best_val_acc:\n",
    "                best_val_acc = val_acc\n",
    "                if (model_path):\n",
    "                    torch.save(self.model.state_dict(), model_path)\n",
    "        print(\"Final validation accuracy = \" + str(val_acc) + \", best = \" + str(best_val_acc))\n",
    "        return val_acc, best_val_acc\n",
    "\n",
    "    def load(self, path):\n",
    "        self.model.load_state_dict(torch.load(path, weights_only=True))"
   ]
  },
  {
   "cell_type": "code",
   "execution_count": null,
   "metadata": {},
   "outputs": [],
   "source": [
    "# The function below is the basis of how the autograder tests your code. Try to understand this one."
   ]
  },
  {
   "cell_type": "code",
   "execution_count": null,
   "metadata": {},
   "outputs": [],
   "source": [
    "def test(waveforms, labels, feature_func, classifier, learning_rate, path):\n",
    "    print(\"Extracting features...\")\n",
    "    test_loaders = Loaders(waveforms, labels, feature_func)\n",
    "    test_pipeline = Pipeline(classifier, learning_rate)\n",
    "    \n",
    "    # Note: the autograder will not run this line: it will just load your saved model (next line)\n",
    "    acc, best_acc = test_pipeline.train(test_loaders, 10, path)\n",
    "    \n",
    "    test_pipeline.load(path)\n",
    "    test_acc = test_pipeline.evaluate(test_loaders.loaderTest)\n",
    "    print(\"Test accuracy = \" + str(test_acc))"
   ]
  },
  {
   "cell_type": "code",
   "execution_count": null,
   "metadata": {},
   "outputs": [],
   "source": [
    "# 1. Paths, labels, waveforms"
   ]
  },
  {
   "cell_type": "code",
   "execution_count": null,
   "metadata": {},
   "outputs": [],
   "source": [
    "# Once you've written the corresponding code in homework2.py, print these out or visualize them if you want\n",
    "homework2.waveforms\n",
    "homework2.labels"
   ]
  },
  {
   "cell_type": "code",
   "execution_count": null,
   "metadata": {},
   "outputs": [],
   "source": [
    "# 2. MFCC"
   ]
  },
  {
   "cell_type": "code",
   "execution_count": null,
   "metadata": {},
   "outputs": [],
   "source": [
    "test(homework2.waveforms,\n",
    "     homework2.labels,\n",
    "     homework2.extract_mfcc,\n",
    "     homework2.MLPClassifier(),\n",
    "     0.0001,\n",
    "     \"best_mlp_model.weights\")"
   ]
  },
  {
   "cell_type": "code",
   "execution_count": null,
   "metadata": {},
   "outputs": [],
   "source": [
    "# 3. Spectrogram"
   ]
  },
  {
   "cell_type": "code",
   "execution_count": null,
   "metadata": {},
   "outputs": [],
   "source": [
    "test(homework2.waveforms,\n",
    "     homework2.labels,\n",
    "     homework2.extract_spec,\n",
    "     homework2.SimpleCNN(),\n",
    "     0.0001,\n",
    "     \"best_spec_model.weights\")"
   ]
  },
  {
   "cell_type": "code",
   "execution_count": null,
   "metadata": {},
   "outputs": [],
   "source": [
    "# 4. Mel-spectrogram"
   ]
  },
  {
   "cell_type": "code",
   "execution_count": null,
   "metadata": {},
   "outputs": [],
   "source": [
    "test(homework2.waveforms,\n",
    "     homework2.labels,\n",
    "     homework2.extract_mel,\n",
    "     homework2.SimpleCNN(),\n",
    "     0.0001,\n",
    "     \"best_mel_model.weights\")"
   ]
  },
  {
   "cell_type": "code",
   "execution_count": null,
   "metadata": {},
   "outputs": [],
   "source": [
    "# 5. Constant-Q"
   ]
  },
  {
   "cell_type": "code",
   "execution_count": null,
   "metadata": {},
   "outputs": [],
   "source": [
    "test(homework2.waveforms,\n",
    "     homework2.labels,\n",
    "     homework2.extract_q,\n",
    "     homework2.SimpleCNN(),\n",
    "     0.0001,\n",
    "     \"best_q_model.weights\")"
   ]
  },
  {
   "cell_type": "code",
   "execution_count": null,
   "metadata": {},
   "outputs": [],
   "source": [
    "# 6. Pitch shift"
   ]
  },
  {
   "cell_type": "code",
   "execution_count": null,
   "metadata": {},
   "outputs": [],
   "source": [
    "test(homework2.augmented_waveforms,\n",
    "     homework2.augmented_labels,\n",
    "     homework2.extract_q,\n",
    "     homework2.SimpleCNN(),\n",
    "     0.0001,\n",
    "     \"best_augmented_model.weights\")"
   ]
  },
  {
   "cell_type": "code",
   "execution_count": null,
   "metadata": {},
   "outputs": [],
   "source": [
    "# 7. Extend your model to handle four classes and creatively improve its performance"
   ]
  },
  {
   "cell_type": "code",
   "execution_count": null,
   "metadata": {},
   "outputs": [],
   "source": [
    "test(homework2.waveforms,\n",
    "     homework2.labels_7,\n",
    "     homework2.feature_func_7,\n",
    "     homework2.model_7,\n",
    "     0.0001,\n",
    "     \"best_model_7.weights\")"
   ]
  },
  {
   "cell_type": "code",
   "execution_count": null,
   "metadata": {},
   "outputs": [],
   "source": []
  }
 ],
 "metadata": {
  "kernelspec": {
   "display_name": "Python 3 (ipykernel)",
   "language": "python",
   "name": "python3"
  },
  "language_info": {
   "codemirror_mode": {
    "name": "ipython",
    "version": 3
   },
   "file_extension": ".py",
   "mimetype": "text/x-python",
   "name": "python",
   "nbconvert_exporter": "python",
   "pygments_lexer": "ipython3",
   "version": "3.10.12"
  }
 },
 "nbformat": 4,
 "nbformat_minor": 2
}
